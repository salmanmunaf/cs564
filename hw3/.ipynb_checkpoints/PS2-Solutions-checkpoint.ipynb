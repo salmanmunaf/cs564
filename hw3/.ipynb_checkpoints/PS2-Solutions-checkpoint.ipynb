{
 "cells": [
  {
   "cell_type": "code",
   "execution_count": 1,
   "metadata": {},
   "outputs": [],
   "source": [
    "%load_ext sql\n",
    "%sql sqlite:///PS2.db"
   ]
  },
  {
   "cell_type": "markdown",
   "metadata": {},
   "source": [
    "Problem Set #2\n",
    "=======\n",
    "\n",
    "\n",
    "### Instructions / Notes:\n",
    "\n",
    "**_Read these carefully_**\n",
    "\n",
    "* You **may** create new IPython notebook cells to use for e.g. testing, debugging, exploring, etc.- this is encouraged in fact!- **just make sure that your final answer for each question is _in its own cell_ and _clearly indicated_**\n",
    "* When you see `In [*]:` to the left of the cell you are executing, this means that the code / query is _running_.\n",
    "    * **If the cell is hanging- i.e. running for too long: To restart the SQL connection, you must restart the entire python kernel**\n",
    "    * To restart kernel using the menu bar: \"Kernel >> Restart >> Clear all outputs & restart\"), then re-execute the sql connection cell at top\n",
    "    * You will also need to restart the connection if you want to load a different version of the database file\n",
    "* Remember:\n",
    "    * `%sql [SQL]` is for _single line_ SQL queries\n",
    "    * `%%sql [SQL]` is for _multi line_ SQL queries\n",
    "* _Have fun!_"
   ]
  },
  {
   "cell_type": "markdown",
   "metadata": {},
   "source": [
    "Problem 1: Verifying Functional Dependencies [12 points]\n",
    "---------\n",
    "\n",
    "For this part, you will need to provide a _single_ SQL query which will check whether a certain condition holds on the **hospital** table in the provided database:"
   ]
  },
  {
   "cell_type": "code",
   "execution_count": 2,
   "metadata": {},
   "outputs": [
    {
     "name": "stdout",
     "output_type": "stream",
     "text": [
      " * sqlite:///PS2.db\n",
      "Done.\n"
     ]
    },
    {
     "data": {
      "text/html": [
       "<table>\n",
       "    <tr>\n",
       "        <th>count (*)</th>\n",
       "    </tr>\n",
       "    <tr>\n",
       "        <td>1000</td>\n",
       "    </tr>\n",
       "</table>"
      ],
      "text/plain": [
       "[(1000,)]"
      ]
     },
     "execution_count": 2,
     "metadata": {},
     "output_type": "execute_result"
    }
   ],
   "source": [
    "%sql select count (*) from hospital;"
   ]
  },
  {
   "cell_type": "markdown",
   "metadata": {},
   "source": [
    "You need to evaluate any requested conditions in the following way: **your query should return an empty result if and only if the condition holds on the instance.**  If the condition _doesn't hold_, your query should return something non-empty, but it doesn't matter what this is.\n",
    "\n",
    "Note our language here: the conditions that we specify cannot be proved to hold **in general** without knowing the externally-defined functional dependencies; so what we mean is, _check whether they **are not violated** for the provided instance_.\n",
    "\n",
    "You may assume that there are no `NULL` values in the tables."
   ]
  },
  {
   "cell_type": "markdown",
   "metadata": {},
   "source": [
    "### Part (a)  [7 points]\n",
    "\n",
    "Is $\\{provider\\}$ a **superkey** for relation $Hospital$?"
   ]
  },
  {
   "cell_type": "code",
   "execution_count": 6,
   "metadata": {},
   "outputs": [
    {
     "name": "stdout",
     "output_type": "stream",
     "text": [
      "Done.\n"
     ]
    },
    {
     "data": {
      "text/html": [
       "<table>\n",
       "    <tr>\n",
       "        <th>provider</th>\n",
       "        <th>hospital</th>\n",
       "        <th>address</th>\n",
       "        <th>city</th>\n",
       "        <th>state</th>\n",
       "        <th>zip</th>\n",
       "        <th>county</th>\n",
       "        <th>phone_number</th>\n",
       "        <th>hospital_type</th>\n",
       "        <th>hospital_owner</th>\n",
       "        <th>emergency_service</th>\n",
       "        <th>condition</th>\n",
       "        <th>measure_code</th>\n",
       "        <th>provider_1</th>\n",
       "        <th>hospital_1</th>\n",
       "        <th>address_1</th>\n",
       "        <th>city_1</th>\n",
       "        <th>state_1</th>\n",
       "        <th>zip_1</th>\n",
       "        <th>county_1</th>\n",
       "        <th>phone_number_1</th>\n",
       "        <th>hospital_type_1</th>\n",
       "        <th>hospital_owner_1</th>\n",
       "        <th>emergency_service_1</th>\n",
       "        <th>condition_1</th>\n",
       "        <th>measure_code_1</th>\n",
       "    </tr>\n",
       "    <tr>\n",
       "        <td>10018</td>\n",
       "        <td>CALLAHAN EYE FOUNDATION HOSPITAL</td>\n",
       "        <td>1720 UNIVERSITY BLVD</td>\n",
       "        <td>BIRMINGHAM</td>\n",
       "        <td>AL</td>\n",
       "        <td>35233</td>\n",
       "        <td>JEFFERSON</td>\n",
       "        <td>2053258100</td>\n",
       "        <td>Acute Care Hospitals</td>\n",
       "        <td>Voluntary non-profit - Private</td>\n",
       "        <td>Yes</td>\n",
       "        <td>Surgical Infection Prevention</td>\n",
       "        <td>SCIP-CARD-2</td>\n",
       "        <td>10018</td>\n",
       "        <td>CALLAHAN EYE FOUNDATION HOSPITAL</td>\n",
       "        <td>1720 UNIVERSITY BLVD</td>\n",
       "        <td>BIRMINGHAM</td>\n",
       "        <td>AL</td>\n",
       "        <td>35233</td>\n",
       "        <td>JEFFERSON</td>\n",
       "        <td>2053258100</td>\n",
       "        <td>Acute Care Hospitals</td>\n",
       "        <td>Voluntary non-profit - Private</td>\n",
       "        <td>Yes</td>\n",
       "        <td>Heart Attack</td>\n",
       "        <td>AMI-1</td>\n",
       "    </tr>\n",
       "</table>"
      ],
      "text/plain": [
       "[(10018, u'CALLAHAN EYE FOUNDATION HOSPITAL', u'1720 UNIVERSITY BLVD', u'BIRMINGHAM', u'AL', 35233, u'JEFFERSON', 2053258100, u'Acute Care Hospitals', u'Voluntary non-profit - Private', u'Yes', u'Surgical Infection Prevention', u'SCIP-CARD-2', 10018, u'CALLAHAN EYE FOUNDATION HOSPITAL', u'1720 UNIVERSITY BLVD', u'BIRMINGHAM', u'AL', 35233, u'JEFFERSON', 2053258100, u'Acute Care Hospitals', u'Voluntary non-profit - Private', u'Yes', u'Heart Attack', u'AMI-1')]"
      ]
     },
     "execution_count": 6,
     "metadata": {},
     "output_type": "execute_result"
    }
   ],
   "source": [
    "%%sql \n",
    "SELECT *\n",
    "FROM hospital h1, hospital h2\n",
    "WHERE (h1.provider = h2.provider) \n",
    " and not (h1.hospital = h2.hospital and\n",
    "          h1.address = h2.address and\n",
    "          h1.city = h2.city and\n",
    "          h1.state = h2.state and\n",
    "          h1.zip = h2.zip and\n",
    "          h1.county = h2.county and\n",
    "          h1.phone_number = h2.phone_number and\n",
    "          h1.hospital_type = h2.hospital_type and\n",
    "          h1.hospital_owner = h2.hospital_owner and\n",
    "          h1.emergency_service = h2.emergency_service and\n",
    "          h1.condition = h2.condition and\n",
    "          h1.measure_code = h2.measure_code) LIMIT 1;"
   ]
  },
  {
   "cell_type": "markdown",
   "metadata": {},
   "source": [
    "### Part (b) [5 points]\n",
    "\n",
    "Does $\\{Zip\\} \\rightarrow \\{City, State\\}$ hold for relation $Hospital$?"
   ]
  },
  {
   "cell_type": "code",
   "execution_count": 3,
   "metadata": {},
   "outputs": [
    {
     "name": "stdout",
     "output_type": "stream",
     "text": [
      " * sqlite:///PS2.db\n",
      "Done.\n"
     ]
    },
    {
     "data": {
      "text/html": [
       "<table>\n",
       "    <tr>\n",
       "        <th>provider</th>\n",
       "        <th>hospital</th>\n",
       "        <th>address</th>\n",
       "        <th>city</th>\n",
       "        <th>state</th>\n",
       "        <th>zip</th>\n",
       "        <th>county</th>\n",
       "        <th>phone_number</th>\n",
       "        <th>hospital_type</th>\n",
       "        <th>hospital_owner</th>\n",
       "        <th>emergency_service</th>\n",
       "        <th>condition</th>\n",
       "        <th>measure_code</th>\n",
       "        <th>provider_1</th>\n",
       "        <th>hospital_1</th>\n",
       "        <th>address_1</th>\n",
       "        <th>city_1</th>\n",
       "        <th>state_1</th>\n",
       "        <th>zip_1</th>\n",
       "        <th>county_1</th>\n",
       "        <th>phone_number_1</th>\n",
       "        <th>hospital_type_1</th>\n",
       "        <th>hospital_owner_1</th>\n",
       "        <th>emergency_service_1</th>\n",
       "        <th>condition_1</th>\n",
       "        <th>measure_code_1</th>\n",
       "    </tr>\n",
       "</table>"
      ],
      "text/plain": [
       "[]"
      ]
     },
     "execution_count": 3,
     "metadata": {},
     "output_type": "execute_result"
    }
   ],
   "source": [
    "%%sql \n",
    "SELECT *\n",
    "FROM hospital h1, hospital h2\n",
    "WHERE (h1.zip = h2.zip) and not (h1.city = h2.city and h1.state = h2.state)"
   ]
  },
  {
   "cell_type": "markdown",
   "metadata": {},
   "source": [
    "Problem 2: Superkeys & Decompositions [20 points]\n",
    "---------\n",
    "\n",
    "Consider a relation $S(A,B,C,D,E,F)$ with the following functional dependencies:\n",
    "\n",
    "* $\\{A\\} \\rightarrow \\{D\\}$\n",
    "* $\\{A\\} \\rightarrow \\{E\\}$\n",
    "* $\\{D\\} \\rightarrow \\{C\\}$\n",
    "* $\\{D\\} \\rightarrow \\{F\\}$\n",
    "\n",
    "In each part of this problem, we will examine different properties the provided schema.\n",
    "\n",
    "To answer **yes**, provide python code that assigns the variable ```answer``` to ```True``` and assigns ```explanation``` to be a python string which contains a (short!) explanation of why.  For example:\n",
    "\n",
    "```python\n",
    "answer = True\n",
    "explanation = \"All keys are superkeys.\"\n",
    "```\n",
    "\n",
    "To answer **no**, provide python code that assigns the variable ```answer``` to ```False``` and assigns ```explanation``` to be a python string which contains a (short!) explanation of why.  For example:\n",
    "\n",
    "```python\n",
    "answer = False\n",
    "explanation = \"D is not a superkey because its closure is {D,C,F}.\"\n",
    "```"
   ]
  },
  {
   "cell_type": "markdown",
   "metadata": {
    "collapsed": true
   },
   "source": [
    "### Part (a) [4 points]\n",
    "\n",
    "Is it correct that ${A,B}$ is a superkey?"
   ]
  },
  {
   "cell_type": "code",
   "execution_count": null,
   "metadata": {
    "collapsed": true
   },
   "outputs": [],
   "source": [
    "answer = True\n",
    "explanation = \"Because {AB}+ ={ABCDEF}\""
   ]
  },
  {
   "cell_type": "markdown",
   "metadata": {},
   "source": [
    "### Part (b) [4 points]\n",
    "\n",
    "Is it correct that the decomposition $ABC$, $CDE$, $EFA$ is lossless-join?"
   ]
  },
  {
   "cell_type": "code",
   "execution_count": null,
   "metadata": {
    "collapsed": true
   },
   "outputs": [],
   "source": [
    "answer = False\n",
    "explanation = \"The chase algorithm results in a table where all three rows have subscripts.\""
   ]
  },
  {
   "cell_type": "markdown",
   "metadata": {},
   "source": [
    "### Part (c) [4 points]\n",
    "\n",
    "Is it correct that the decomposition $ABC$, $CDE$, $EFA$ is dependency preserving?"
   ]
  },
  {
   "cell_type": "code",
   "execution_count": null,
   "metadata": {
    "collapsed": true
   },
   "outputs": [],
   "source": [
    "answer = False\n",
    "explanation = \"Not dependency preserving because A -> D is not present in the closure of the unions of projection of FD on the three decomposed relations.\""
   ]
  },
  {
   "cell_type": "markdown",
   "metadata": {},
   "source": [
    "### Part (d) [4 points]\n",
    "\n",
    "Is the functional dependency $\\{A\\} \\rightarrow \\{E,F\\}$ logically implied by FDs present in the relation?"
   ]
  },
  {
   "cell_type": "code",
   "execution_count": null,
   "metadata": {
    "collapsed": true
   },
   "outputs": [],
   "source": [
    "answer = True\n",
    "explanation = \"The closure of {A} is {A,C,D,E,F}.\""
   ]
  },
  {
   "cell_type": "markdown",
   "metadata": {},
   "source": [
    "### Part (e) [8 points]\n",
    "\n",
    "Is it correct that relation $S$ is in BCNF? "
   ]
  },
  {
   "cell_type": "code",
   "execution_count": 23,
   "metadata": {
    "collapsed": true
   },
   "outputs": [],
   "source": [
    "answer = False\n",
    "explanation = \"The FD A -> D violates the BCNF condition, since {A} is not a superkey.\""
   ]
  },
  {
   "cell_type": "markdown",
   "metadata": {},
   "source": [
    "Problem 3: Relational Algebra [18 points]\n",
    "---------\n",
    "\n",
    "Consider the following relational schema:\n",
    "*  `Article(artid, title, confid, numpages)`\n",
    "*  `Conference(confid, name, year, location)`\n",
    "*  `Author(artid, pid)`\n",
    "*  `Person(pid, name, affiliation)`\n",
    "\n",
    "Express the following queries in the extended Relational Algebra (you can also use the aggregation operator if necessary). To write the RA expression, use the LaTex mode that ipython notebook provides. For example:\n",
    "\n",
    "$$\\pi_{name}(\\sigma_{affiliation=\"UW-Madison\"}(Person))$$ "
   ]
  },
  {
   "cell_type": "markdown",
   "metadata": {},
   "source": [
    "### Part (a) [4 points]\n",
    "\n",
    "Output the name of every person affiliated with `UW-Madison` who has submitted an article in 2019."
   ]
  },
  {
   "cell_type": "markdown",
   "metadata": {},
   "source": [
    "$$ \\pi_{name}( \\sigma_{affiliation=\"UW-Madison\"} (Person) \\Join Author \\Join Article \\Join \\pi_{confid}(\\sigma_{year=2019} (Conference)))$$"
   ]
  },
  {
   "cell_type": "markdown",
   "metadata": {},
   "source": [
    "### Part (b) [5 points]\n",
    "\n",
    "Output the names of the people who coauthored an article with `John Doe`. Be careful: a person cannot be coauthor with herself!"
   ]
  },
  {
   "cell_type": "markdown",
   "metadata": {},
   "source": [
    "$$\\pi_{oname} (\\sigma_{name=\"John\\: Doe\"}(Person) \\Join Author \\Join  \\rho_{pid \\rightarrow oid} (Author)\\Join \\rho_{pid \\rightarrow oid, {name \\rightarrow oname}}\\sigma_{name \\neq \"John\\: Doe\"}(Author)))$$"
   ]
  },
  {
   "cell_type": "markdown",
   "metadata": {},
   "source": [
    "### Part (c) [4 points]\n",
    "\n",
    "Count how many people published an article in the conference `SIGMOD` in 2018, but not in 2019. "
   ]
  },
  {
   "cell_type": "markdown",
   "metadata": {},
   "source": [
    "\\begin{align*} \n",
    "\\gamma_{COUNT(pid)} (\\pi_{pid}(Author \\Join Article \\Join \\sigma_{name=\"SIGMOD\" \\wedge year=2018}(Conference)) - \\pi_{pid}(Author \\Join Article \\Join \\sigma_{name=\"SIGMOD\" \\wedge year=2018}(Conference)))\n",
    "\\end{align*}"
   ]
  },
  {
   "cell_type": "markdown",
   "metadata": {},
   "source": [
    "### Part (d) [5 points]\n",
    "\n",
    "Translate the following SQL query to Relational Algebra. "
   ]
  },
  {
   "cell_type": "code",
   "execution_count": null,
   "metadata": {},
   "outputs": [],
   "source": [
    "%%sql\n",
    "SELECT pid, COUNT(A.artid)\n",
    "FROM Article A, Conference C, Author U\n",
    "WHERE A.confid = C.confid AND C.name = \"SIGMOD\" AND U.artid = A.artid\n",
    "GROUP BY pid ;"
   ]
  },
  {
   "cell_type": "markdown",
   "metadata": {},
   "source": [
    "\\begin{align*} \n",
    "\\gamma_{pid, COUNT(artid)} (Article \\Join \\sigma_{name =\"SIGMOD\"}(Conference) \\Join Author)\n",
    "\\end{align*}"
   ]
  }
 ],
 "metadata": {
  "kernelspec": {
   "display_name": "Python 3 (ipykernel)",
   "language": "python",
   "name": "python3"
  },
  "language_info": {
   "codemirror_mode": {
    "name": "ipython",
    "version": 3
   },
   "file_extension": ".py",
   "mimetype": "text/x-python",
   "name": "python",
   "nbconvert_exporter": "python",
   "pygments_lexer": "ipython3",
   "version": "3.9.7"
  }
 },
 "nbformat": 4,
 "nbformat_minor": 1
}
